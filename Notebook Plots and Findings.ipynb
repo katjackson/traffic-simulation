{
 "cells": [
  {
   "cell_type": "code",
   "execution_count": 1,
   "metadata": {
    "collapsed": true
   },
   "outputs": [],
   "source": [
    "import math\n",
    "import random\n",
    "import statistics as st\n",
    "import numpy as np\n",
    "import matplotlib.pyplot as plt\n",
    "import seaborn\n",
    "\n",
    "from road import Road\n",
    "\n",
    "%matplotlib inline"
   ]
  },
  {
   "cell_type": "code",
   "execution_count": 14,
   "metadata": {
    "collapsed": false
   },
   "outputs": [],
   "source": [
    "road = Road(number_of_cars=30)\n",
    "road.place_cars()\n",
    "\n",
    "speed_limits = []\n",
    "mean_speeds = []\n",
    "positions_list = []\n",
    "iteration_number = 10\n",
    "for _ in range(iteration_number):\n",
    "    speeds, positions = road.simulate_n_seconds(60)\n",
    "\n",
    "    speed_limit = np.mean(speeds) + np.std(speeds)\n",
    "    mean_speeds.append(np.mean(speeds))\n",
    "    speed_limits.append(speed_limit)\n",
    "\n",
    "#     if _ > iteration_number - 3:\n",
    "    positions_list.append(positions)\n",
    "\n",
    "ave_speed = int(np.mean(speed_limits))"
   ]
  },
  {
   "cell_type": "code",
   "execution_count": 15,
   "metadata": {
    "collapsed": false,
    "scrolled": true
   },
   "outputs": [
    {
     "name": "stdout",
     "output_type": "stream",
     "text": [
      "[array([1, 6]), array([58, 63]), array([72, 77]), array([101, 106]), array([136, 141]), array([153, 158]), array([232, 237]), array([263, 268]), array([356, 361]), array([367, 372]), array([382, 387]), array([391, 396]), array([444, 449]), array([483, 488]), array([506, 511]), array([531, 536]), array([559, 564]), array([612, 617]), array([660, 665]), array([711, 716]), array([744, 749]), array([751, 756]), array([768, 773]), array([791, 796]), array([806, 811]), array([819, 824]), array([918, 923]), array([973, 978]), array([24, 29]), array([53, 58])]\n",
      "[array([1, 6]), array([58, 63]), array([72, 77]), array([101, 106]), array([136, 141]), array([153, 158]), array([232, 237]), array([263, 268]), array([356, 361]), array([367, 372]), array([382, 387]), array([391, 396]), array([444, 449]), array([483, 488]), array([506, 511]), array([531, 536]), array([559, 564]), array([612, 617]), array([660, 665]), array([711, 716]), array([744, 749]), array([751, 756]), array([768, 773]), array([791, 796]), array([806, 811]), array([819, 824]), array([918, 923]), array([973, 978]), array([24, 29]), array([53, 58])]\n",
      "[array([1, 6]), array([58, 63]), array([72, 77]), array([101, 106]), array([136, 141]), array([153, 158]), array([232, 237]), array([263, 268]), array([356, 361]), array([367, 372]), array([382, 387]), array([391, 396]), array([444, 449]), array([483, 488]), array([506, 511]), array([531, 536]), array([559, 564]), array([612, 617]), array([660, 665]), array([711, 716]), array([744, 749]), array([751, 756]), array([768, 773]), array([791, 796]), array([806, 811]), array([819, 824]), array([918, 923]), array([973, 978]), array([24, 29]), array([53, 58])]\n",
      "60\n",
      "[564, 587, 636, 641, 656, 683, 710, 781, 810, 861, 876, 901, 920, 39, 56, 95, 164, 265, 292, 319, 336, 373, 382, 395, 422, 429, 456, 471, 502, 519, 564, 587, 636, 641, 656, 683, 710, 781, 810, 861, 876, 901, 920, 39, 56, 95, 164, 265, 292, 319, 336, 373, 382, 395, 422, 429, 456, 471, 502, 519]\n",
      "60\n"
     ]
    }
   ],
   "source": [
    "print(positions_list[0][0][0])\n",
    "# print(positions_list[0][5])\n",
    "# print(positions_list[0][10])\n",
    "\n",
    "# bumper_list = []\n",
    "# for x in positions_list[0]:\n",
    "#     for y in x:\n",
    "#         print(y)\n",
    "#         bumper_list.append(y[0])\n",
    "# new_bl = bumper_list[0:60]\n",
    "\n",
    "print(len(new_bl))\n",
    "print(new_bl)\n",
    "# X = range(0, 1000)\n",
    "Y = range(0, 60)\n",
    "print(len(Y))\n",
    "# # positions_list\n",
    "\n",
    "#plt.scatter(bumper_list, Y)\n",
    "# plt.show()\n",
    "\n",
    "# x1 = [\"2014 Q1\", \"2014 Q2\", \"2014 Q3\", \"2014 Q4\", \"2015 Q1\"]\n",
    "# y1 = [400, 700, 1200, 2000, 2300]\n",
    "# plt.scatter(range(5), y1)\n",
    "# plt.xticks(range(5), x1)\n",
    "# plt.xlabel(\"quarter\")\n",
    "# plt.ylabel(\"dollar billz\")\n",
    "# plt.title(\"Sales\")\n",
    "# plt.show()\n",
    "# heights = [70, 64, 78, 62, 69, 70]\n",
    "# weights = [210, 120, 200, 150, 150, 185]\n",
    "\n",
    "# plt.scatter(heights, weights)\n",
    "# plt.xlabel(\"height (in)\")\n",
    "# plt.ylabel(\"weight (lb)\")\n",
    "# plt.show()\n",
    "# bmi_data = [(70, 210), (64, 120), (78, 200), (62, 150), (69, 150), (70, 185)]\n",
    "\n",
    "# print(list(zip(*bmi_data)))\n",
    "\n",
    "# plt.scatter(*zip(*bmi_data))\n",
    "\n"
   ]
  },
  {
   "cell_type": "code",
   "execution_count": 4,
   "metadata": {
    "collapsed": false
   },
   "outputs": [],
   "source": [
    "pair = np.array([994, 999])"
   ]
  },
  {
   "cell_type": "code",
   "execution_count": 5,
   "metadata": {
    "collapsed": false
   },
   "outputs": [
    {
     "name": "stdout",
     "output_type": "stream",
     "text": [
      "[ 996 1001]\n"
     ]
    }
   ],
   "source": [
    "pair += 2\n",
    "print(pair)"
   ]
  },
  {
   "cell_type": "code",
   "execution_count": 6,
   "metadata": {
    "collapsed": false
   },
   "outputs": [
    {
     "data": {
      "text/plain": [
       "array([996,   1])"
      ]
     },
     "execution_count": 6,
     "metadata": {},
     "output_type": "execute_result"
    }
   ],
   "source": [
    "pair % 1000"
   ]
  },
  {
   "cell_type": "code",
   "execution_count": 7,
   "metadata": {
    "collapsed": false
   },
   "outputs": [
    {
     "name": "stdout",
     "output_type": "stream",
     "text": [
      "[ 996 1001]\n"
     ]
    }
   ],
   "source": [
    "print(pair)"
   ]
  },
  {
   "cell_type": "code",
   "execution_count": 8,
   "metadata": {
    "collapsed": true
   },
   "outputs": [],
   "source": [
    "pair = pair % 1000"
   ]
  },
  {
   "cell_type": "code",
   "execution_count": 9,
   "metadata": {
    "collapsed": false
   },
   "outputs": [
    {
     "name": "stdout",
     "output_type": "stream",
     "text": [
      "[996   1]\n"
     ]
    }
   ],
   "source": [
    "print(pair)"
   ]
  },
  {
   "cell_type": "code",
   "execution_count": null,
   "metadata": {
    "collapsed": true
   },
   "outputs": [],
   "source": []
  }
 ],
 "metadata": {
  "kernelspec": {
   "display_name": "Python 3",
   "language": "python",
   "name": "python3"
  },
  "language_info": {
   "codemirror_mode": {
    "name": "ipython",
    "version": 3
   },
   "file_extension": ".py",
   "mimetype": "text/x-python",
   "name": "python",
   "nbconvert_exporter": "python",
   "pygments_lexer": "ipython3",
   "version": "3.5.1"
  }
 },
 "nbformat": 4,
 "nbformat_minor": 0
}
