{
 "cells": [
  {
   "cell_type": "code",
   "execution_count": 122,
   "metadata": {
    "collapsed": true
   },
   "outputs": [],
   "source": [
    "import math\n",
    "import random\n",
    "import statistics as st\n",
    "import numpy as np\n",
    "import matplotlib.pyplot as plt\n",
    "import seaborn\n",
    "\n",
    "from road import Road\n",
    "\n",
    "%matplotlib inline"
   ]
  },
  {
   "cell_type": "code",
   "execution_count": 123,
   "metadata": {
    "collapsed": false
   },
   "outputs": [
    {
     "ename": "AttributeError",
     "evalue": "'Road' object has no attribute 'length_of_road'",
     "output_type": "error",
     "traceback": [
      "\u001b[0;31m---------------------------------------------------------------------------\u001b[0m",
      "\u001b[0;31mAttributeError\u001b[0m                            Traceback (most recent call last)",
      "\u001b[0;32m<ipython-input-123-027a94e846ae>\u001b[0m in \u001b[0;36m<module>\u001b[0;34m()\u001b[0m\n\u001b[1;32m      7\u001b[0m \u001b[0miteration_number\u001b[0m \u001b[0;34m=\u001b[0m \u001b[0;36m10\u001b[0m\u001b[0;34m\u001b[0m\u001b[0m\n\u001b[1;32m      8\u001b[0m \u001b[0;32mfor\u001b[0m \u001b[0m_\u001b[0m \u001b[0;32min\u001b[0m \u001b[0mrange\u001b[0m\u001b[0;34m(\u001b[0m\u001b[0miteration_number\u001b[0m\u001b[0;34m)\u001b[0m\u001b[0;34m:\u001b[0m\u001b[0;34m\u001b[0m\u001b[0m\n\u001b[0;32m----> 9\u001b[0;31m     \u001b[0mspeeds\u001b[0m\u001b[0;34m,\u001b[0m \u001b[0mpositions\u001b[0m \u001b[0;34m=\u001b[0m \u001b[0mroad\u001b[0m\u001b[0;34m.\u001b[0m\u001b[0msimulate_n_seconds\u001b[0m\u001b[0;34m(\u001b[0m\u001b[0;36m60\u001b[0m\u001b[0;34m)\u001b[0m\u001b[0;34m\u001b[0m\u001b[0m\n\u001b[0m\u001b[1;32m     10\u001b[0m \u001b[0;34m\u001b[0m\u001b[0m\n\u001b[1;32m     11\u001b[0m     \u001b[0mspeed_limit\u001b[0m \u001b[0;34m=\u001b[0m \u001b[0mnp\u001b[0m\u001b[0;34m.\u001b[0m\u001b[0mmean\u001b[0m\u001b[0;34m(\u001b[0m\u001b[0mspeeds\u001b[0m\u001b[0;34m)\u001b[0m \u001b[0;34m+\u001b[0m \u001b[0mnp\u001b[0m\u001b[0;34m.\u001b[0m\u001b[0mstd\u001b[0m\u001b[0;34m(\u001b[0m\u001b[0mspeeds\u001b[0m\u001b[0;34m)\u001b[0m\u001b[0;34m\u001b[0m\u001b[0m\n",
      "\u001b[0;32m/Users/kathrynjackson/Code/homework/road_rage/road.py\u001b[0m in \u001b[0;36msimulate_n_seconds\u001b[0;34m(self, n)\u001b[0m\n\u001b[1;32m     48\u001b[0m                 \u001b[0mcar\u001b[0m\u001b[0;34m.\u001b[0m\u001b[0mchange_position\u001b[0m\u001b[0;34m(\u001b[0m\u001b[0;34m)\u001b[0m\u001b[0;34m\u001b[0m\u001b[0m\n\u001b[1;32m     49\u001b[0m                 \u001b[0mself\u001b[0m\u001b[0;34m.\u001b[0m\u001b[0mcheck_end_of_lap\u001b[0m\u001b[0;34m(\u001b[0m\u001b[0mcar\u001b[0m\u001b[0;34m)\u001b[0m\u001b[0;34m\u001b[0m\u001b[0m\n\u001b[0;32m---> 50\u001b[0;31m                 \u001b[0mself\u001b[0m\u001b[0;34m.\u001b[0m\u001b[0mcheck_position\u001b[0m\u001b[0;34m(\u001b[0m\u001b[0mcar\u001b[0m\u001b[0;34m,\u001b[0m \u001b[0mself\u001b[0m\u001b[0;34m.\u001b[0m\u001b[0mset_of_cars\u001b[0m\u001b[0;34m[\u001b[0m\u001b[0mindex\u001b[0m\u001b[0;34m+\u001b[0m\u001b[0;36m1\u001b[0m\u001b[0;34m]\u001b[0m\u001b[0;34m)\u001b[0m\u001b[0;34m\u001b[0m\u001b[0m\n\u001b[0m\u001b[1;32m     51\u001b[0m                 \u001b[0mself\u001b[0m\u001b[0;34m.\u001b[0m\u001b[0mcheck_end_of_lap\u001b[0m\u001b[0;34m(\u001b[0m\u001b[0mcar\u001b[0m\u001b[0;34m)\u001b[0m\u001b[0;34m\u001b[0m\u001b[0m\n\u001b[1;32m     52\u001b[0m \u001b[0;34m\u001b[0m\u001b[0m\n",
      "\u001b[0;32m/Users/kathrynjackson/Code/homework/road_rage/road.py\u001b[0m in \u001b[0;36mcheck_position\u001b[0;34m(self, car, other)\u001b[0m\n\u001b[1;32m     19\u001b[0m         \u001b[0;31m# STILL NEEDS FIXING\u001b[0m\u001b[0;34m\u001b[0m\u001b[0;34m\u001b[0m\u001b[0m\n\u001b[1;32m     20\u001b[0m         \u001b[0mgap\u001b[0m \u001b[0;34m=\u001b[0m \u001b[0mother\u001b[0m\u001b[0;34m.\u001b[0m\u001b[0mcar_coordinates\u001b[0m\u001b[0;34m[\u001b[0m\u001b[0;36m0\u001b[0m\u001b[0;34m]\u001b[0m \u001b[0;34m-\u001b[0m \u001b[0mcar\u001b[0m\u001b[0;34m.\u001b[0m\u001b[0mcar_coordinates\u001b[0m\u001b[0;34m[\u001b[0m\u001b[0;34m-\u001b[0m\u001b[0;36m1\u001b[0m\u001b[0;34m]\u001b[0m\u001b[0;34m\u001b[0m\u001b[0m\n\u001b[0;32m---> 21\u001b[0;31m         \u001b[0;32mif\u001b[0m \u001b[0;34m(\u001b[0m\u001b[0mgap\u001b[0m \u001b[0;34m<=\u001b[0m \u001b[0;36m0\u001b[0m\u001b[0;34m)\u001b[0m \u001b[0;32mor\u001b[0m \u001b[0;34m(\u001b[0m\u001b[0mgap\u001b[0m \u001b[0;34m>\u001b[0m \u001b[0mself\u001b[0m\u001b[0;34m.\u001b[0m\u001b[0mlength_of_road\u001b[0m\u001b[0;34m-\u001b[0m\u001b[0mcar\u001b[0m\u001b[0;34m.\u001b[0m\u001b[0mvehicle_size\u001b[0m\u001b[0;34m)\u001b[0m\u001b[0;34m:\u001b[0m\u001b[0;34m\u001b[0m\u001b[0m\n\u001b[0m\u001b[1;32m     22\u001b[0m             car.car_coordinates = car.car_coordinates + (\n\u001b[1;32m     23\u001b[0m                 car.car_coordinates[-1] - (other.car_coordinates[0] + 1))\n",
      "\u001b[0;31mAttributeError\u001b[0m: 'Road' object has no attribute 'length_of_road'"
     ]
    }
   ],
   "source": [
    "road = Road(number_of_cars=30)\n",
    "road.place_cars()\n",
    "\n",
    "speed_limits = []\n",
    "mean_speeds = []\n",
    "positions_list = []\n",
    "iteration_number = 10\n",
    "for _ in range(iteration_number):\n",
    "    speeds, positions = road.simulate_n_seconds(60)\n",
    "\n",
    "    speed_limit = np.mean(speeds) + np.std(speeds)\n",
    "    mean_speeds.append(np.mean(speeds))\n",
    "    speed_limits.append(speed_limit)\n",
    "\n",
    "#     if _ > iteration_number - 3:\n",
    "    positions_list.append(positions)\n",
    "\n",
    "ave_speed = int(np.mean(speed_limits))"
   ]
  },
  {
   "cell_type": "code",
   "execution_count": 124,
   "metadata": {
    "collapsed": false
   },
   "outputs": [],
   "source": [
    "sec_2_positions = np.array([[961, 962, 963, 964, 965],\n",
    "        [928, 929, 930, 931, 932],\n",
    "        [895, 896, 897, 898, 899],\n",
    "        [862, 863, 864, 865, 866],\n",
    "        [829, 830, 831, 832, 833],\n",
    "        [796, 797, 798, 799, 800],\n",
    "        [763, 764, 765, 766, 767],\n",
    "        [730, 731, 732, 733, 734],\n",
    "        [697, 698, 699, 700, 701],\n",
    "        [664, 665, 666, 667, 668],\n",
    "        [631, 632, 633, 634, 635],\n",
    "        [598, 599, 600, 601, 602],\n",
    "        [565, 566, 567, 568, 569],\n",
    "        [532, 533, 534, 535, 536],\n",
    "        [499, 500, 501, 502, 503],\n",
    "        [466, 467, 468, 469, 470],\n",
    "        [433, 434, 435, 436, 437],\n",
    "        [400, 401, 402, 403, 404],\n",
    "        [367, 368, 369, 370, 371],\n",
    "        [334, 335, 336, 337, 338],\n",
    "        [301, 302, 303, 304, 305],\n",
    "        [268, 269, 270, 271, 272],\n",
    "        [235, 236, 237, 238, 239],\n",
    "        [202, 203, 204, 205, 206],\n",
    "        [169, 170, 171, 172, 173],\n",
    "        [136, 137, 138, 139, 140],\n",
    "        [103, 104, 105, 106, 107],\n",
    "        [ 70,  71,  72,  73,  74],\n",
    "        [ 37,  38,  39,  40,  41],\n",
    "        [  4,   5,   6,   7,   8]])\n",
    "sec_2_positions = np.ndarray.flatten(sec_2_positions)\n",
    "sec_1_positions = sec_2_positions[:] - 2\n",
    "sec_3_positions = sec_2_positions[:] + 2"
   ]
  },
  {
   "cell_type": "code",
   "execution_count": 114,
   "metadata": {
    "collapsed": false
   },
   "outputs": [
    {
     "name": "stdout",
     "output_type": "stream",
     "text": [
      "[[959 960 961 962 963 926 927 928 929 930 893 894 895 896 897 860 861 862\n",
      "  863 864 827 828 829 830 831 794 795 796 797 798 761 762 763 764 765 728\n",
      "  729 730 731 732 695 696 697 698 699 662 663 664 665 666 629 630 631 632\n",
      "  633 596 597 598 599 600 563 564 565 566 567 530 531 532 533 534 497 498\n",
      "  499 500 501 464 465 466 467 468 431 432 433 434 435 398 399 400 401 402\n",
      "  365 366 367 368 369 332 333 334 335 336 299 300 301 302 303 266 267 268\n",
      "  269 270 233 234 235 236 237 200 201 202 203 204 167 168 169 170 171 134\n",
      "  135 136 137 138 101 102 103 104 105  68  69  70  71  72  35  36  37  38\n",
      "   39   2   3   4   5   6]\n",
      " [961 962 963 964 965 928 929 930 931 932 895 896 897 898 899 862 863 864\n",
      "  865 866 829 830 831 832 833 796 797 798 799 800 763 764 765 766 767 730\n",
      "  731 732 733 734 697 698 699 700 701 664 665 666 667 668 631 632 633 634\n",
      "  635 598 599 600 601 602 565 566 567 568 569 532 533 534 535 536 499 500\n",
      "  501 502 503 466 467 468 469 470 433 434 435 436 437 400 401 402 403 404\n",
      "  367 368 369 370 371 334 335 336 337 338 301 302 303 304 305 268 269 270\n",
      "  271 272 235 236 237 238 239 202 203 204 205 206 169 170 171 172 173 136\n",
      "  137 138 139 140 103 104 105 106 107  70  71  72  73  74  37  38  39  40\n",
      "   41   4   5   6   7   8]\n",
      " [963 964 965 966 967 930 931 932 933 934 897 898 899 900 901 864 865 866\n",
      "  867 868 831 832 833 834 835 798 799 800 801 802 765 766 767 768 769 732\n",
      "  733 734 735 736 699 700 701 702 703 666 667 668 669 670 633 634 635 636\n",
      "  637 600 601 602 603 604 567 568 569 570 571 534 535 536 537 538 501 502\n",
      "  503 504 505 468 469 470 471 472 435 436 437 438 439 402 403 404 405 406\n",
      "  369 370 371 372 373 336 337 338 339 340 303 304 305 306 307 270 271 272\n",
      "  273 274 237 238 239 240 241 204 205 206 207 208 171 172 173 174 175 138\n",
      "  139 140 141 142 105 106 107 108 109  72  73  74  75  76  39  40  41  42\n",
      "   43   6   7   8   9  10]]\n"
     ]
    }
   ],
   "source": [
    "position_matrix = []\n",
    "position_matrix.append(sec_1_positions)\n",
    "position_matrix.append(sec_2_positions)\n",
    "position_matrix.append(sec_3_positions)\n",
    "position_matrix = np.array(position_matrix)\n",
    "print(position_matrix)"
   ]
  },
  {
   "cell_type": "code",
   "execution_count": 132,
   "metadata": {
    "collapsed": false
   },
   "outputs": [
    {
     "ename": "TypeError",
     "evalue": "only length-1 arrays can be converted to Python scalars",
     "output_type": "error",
     "traceback": [
      "\u001b[0;31m---------------------------------------------------------------------------\u001b[0m",
      "\u001b[0;31mTypeError\u001b[0m                                 Traceback (most recent call last)",
      "\u001b[0;32m<ipython-input-132-127f158c7833>\u001b[0m in \u001b[0;36m<module>\u001b[0;34m()\u001b[0m\n\u001b[1;32m     17\u001b[0m     ax.add_artist(Rectangle(xy=(x, y),\n\u001b[1;32m     18\u001b[0m                   \u001b[0mcolor\u001b[0m\u001b[0;34m=\u001b[0m\u001b[0;34m'black'\u001b[0m\u001b[0;34m,\u001b[0m\u001b[0;34m\u001b[0m\u001b[0m\n\u001b[0;32m---> 19\u001b[0;31m                   width=h, height=h))      # Gives a square of area h*h\n\u001b[0m\u001b[1;32m     20\u001b[0m \u001b[0;34m\u001b[0m\u001b[0m\n\u001b[1;32m     21\u001b[0m \u001b[0maxes\u001b[0m \u001b[0;34m=\u001b[0m \u001b[0mplt\u001b[0m\u001b[0;34m.\u001b[0m\u001b[0mgca\u001b[0m\u001b[0;34m(\u001b[0m\u001b[0;34m)\u001b[0m\u001b[0;34m\u001b[0m\u001b[0m\n",
      "\u001b[0;32m/Users/kathrynjackson/Code/homework/.direnv/python-3.5.1/lib/python3.5/site-packages/matplotlib/patches.py\u001b[0m in \u001b[0;36m__init__\u001b[0;34m(self, xy, width, height, angle, **kwargs)\u001b[0m\n\u001b[1;32m    639\u001b[0m         \u001b[0mPatch\u001b[0m\u001b[0;34m.\u001b[0m\u001b[0m__init__\u001b[0m\u001b[0;34m(\u001b[0m\u001b[0mself\u001b[0m\u001b[0;34m,\u001b[0m \u001b[0;34m**\u001b[0m\u001b[0mkwargs\u001b[0m\u001b[0;34m)\u001b[0m\u001b[0;34m\u001b[0m\u001b[0m\n\u001b[1;32m    640\u001b[0m \u001b[0;34m\u001b[0m\u001b[0m\n\u001b[0;32m--> 641\u001b[0;31m         \u001b[0mself\u001b[0m\u001b[0;34m.\u001b[0m\u001b[0m_x\u001b[0m \u001b[0;34m=\u001b[0m \u001b[0mfloat\u001b[0m\u001b[0;34m(\u001b[0m\u001b[0mxy\u001b[0m\u001b[0;34m[\u001b[0m\u001b[0;36m0\u001b[0m\u001b[0;34m]\u001b[0m\u001b[0;34m)\u001b[0m\u001b[0;34m\u001b[0m\u001b[0m\n\u001b[0m\u001b[1;32m    642\u001b[0m         \u001b[0mself\u001b[0m\u001b[0;34m.\u001b[0m\u001b[0m_y\u001b[0m \u001b[0;34m=\u001b[0m \u001b[0mfloat\u001b[0m\u001b[0;34m(\u001b[0m\u001b[0mxy\u001b[0m\u001b[0;34m[\u001b[0m\u001b[0;36m1\u001b[0m\u001b[0;34m]\u001b[0m\u001b[0;34m)\u001b[0m\u001b[0;34m\u001b[0m\u001b[0m\n\u001b[1;32m    643\u001b[0m         \u001b[0mself\u001b[0m\u001b[0;34m.\u001b[0m\u001b[0m_width\u001b[0m \u001b[0;34m=\u001b[0m \u001b[0mfloat\u001b[0m\u001b[0;34m(\u001b[0m\u001b[0mwidth\u001b[0m\u001b[0;34m)\u001b[0m\u001b[0;34m\u001b[0m\u001b[0m\n",
      "\u001b[0;31mTypeError\u001b[0m: only length-1 arrays can be converted to Python scalars"
     ]
    },
    {
     "data": {
      "image/png": "[encoded data removed]",
      "text/plain": [
       "<matplotlib.figure.Figure at 0x109613c88>"
      ]
     },
     "metadata": {},
     "output_type": "display_data"
    }
   ],
   "source": [
    "from matplotlib.patches import Rectangle\n",
    "\n",
    "\n",
    "x = position_matrix\n",
    "# y_list = []\n",
    "# for number in range(0,61):\n",
    "#     y_list.append([number]*150)\n",
    "# Y = np.ndarray.flatten(np.array(y_list))\n",
    "\n",
    "y = [1]*30 + [2]*30 + [3]*30\n",
    "dx = [1]*150*3\n",
    "\n",
    "fig = plt.figure()\n",
    "ax = fig.add_subplot(111, aspect='equal')\n",
    "\n",
    "for x, y, h in zip(x, y, dx):\n",
    "    ax.add_artist(Rectangle(xy=(x, y),\n",
    "                  color='black',\n",
    "                  width=h, height=h))      # Gives a square of area h*h\n",
    "\n",
    "axes = plt.gca()\n",
    "axes.set_xlim([0,61])\n",
    "axes.set_ylim([0,61])\n",
    "# plt.plot((10, 10), (0, 120), 'red-')\n",
    "\n",
    "plt.show()"
   ]
  },
  {
   "cell_type": "code",
   "execution_count": null,
   "metadata": {
    "collapsed": false
   },
   "outputs": [],
   "source": []
  },
  {
   "cell_type": "code",
   "execution_count": null,
   "metadata": {
    "collapsed": true
   },
   "outputs": [],
   "source": []
  }
 ],
 "metadata": {
  "kernelspec": {
   "display_name": "Python 3",
   "language": "python",
   "name": "python3"
  },
  "language_info": {
   "codemirror_mode": {
    "name": "ipython",
    "version": 3
   },
   "file_extension": ".py",
   "mimetype": "text/x-python",
   "name": "python",
   "nbconvert_exporter": "python",
   "pygments_lexer": "ipython3",
   "version": "3.5.1"
  }
 },
 "nbformat": 4,
 "nbformat_minor": 0
}
